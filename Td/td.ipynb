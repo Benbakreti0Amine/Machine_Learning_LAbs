{
 "cells": [
  {
   "cell_type": "code",
   "execution_count": 122,
   "id": "acf5dc63",
   "metadata": {},
   "outputs": [
    {
     "data": {
      "text/plain": [
       "35.78000333333333"
      ]
     },
     "execution_count": 122,
     "metadata": {},
     "output_type": "execute_result"
    }
   ],
   "source": [
    "pere = [65,63,67,64,68,62,70,66,68,67,69,71]\n",
    "fils = [68,66,68,65,69,66,68,65,71,67,68,70]\n",
    "\n",
    "def f(x,weight,bias):\n",
    "    return weight*x + bias\n",
    "\n",
    "def beta_zero(beta):\n",
    "    alpha = 0.001\n",
    "    m = 12\n",
    "    summ = 0\n",
    "    \n",
    "    for i in range(m):\n",
    "        summ += (f(pere[i],0.4770,35.78)-fils[i])\n",
    "        \n",
    "    res = beta - alpha * (1/m)* summ\n",
    "    return res\n",
    "beta0 = beta_zero(35.78)\n",
    "beta0"
   ]
  },
  {
   "cell_type": "code",
   "execution_count": 123,
   "id": "76ecfd1e",
   "metadata": {},
   "outputs": [],
   "source": [
    "def beta_one(beta):\n",
    "    alpha = 0.1\n",
    "    m = 12\n",
    "    summ = 0\n",
    "    \n",
    "    for i in range(m):\n",
    "        summ += (f(pere[i],0.4770,35.78)-fils[i])*pere[i]\n",
    "        \n",
    "    res = beta - alpha * (1/m)* summ\n",
    "    return res"
   ]
  },
  {
   "cell_type": "code",
   "execution_count": 124,
   "id": "1eccbea2",
   "metadata": {},
   "outputs": [
    {
     "data": {
      "text/plain": [
       "0.49878333333332886"
      ]
     },
     "execution_count": 124,
     "metadata": {},
     "output_type": "execute_result"
    }
   ],
   "source": [
    "beta1 = beta_one(0.4770)\n",
    "beta1\n"
   ]
  },
  {
   "cell_type": "code",
   "execution_count": 125,
   "id": "491c5cc7",
   "metadata": {},
   "outputs": [
    {
     "data": {
      "text/plain": [
       "1.0319999999999987"
      ]
     },
     "execution_count": 125,
     "metadata": {},
     "output_type": "execute_result"
    }
   ],
   "source": [
    "def MAE(pere,fils):\n",
    "    n = 12\n",
    "    summ = 0\n",
    "    for i in range (n):\n",
    "        summ += abs(fils[i]-f(pere[i],0.4770,35.78))\n",
    "    return (1/n)*summ\n",
    "\n",
    "MAE(pere,fils)"
   ]
  },
  {
   "cell_type": "code",
   "execution_count": 126,
   "id": "6e67731a",
   "metadata": {},
   "outputs": [
    {
     "data": {
      "text/plain": [
       "1.6660138888886433"
      ]
     },
     "execution_count": 126,
     "metadata": {},
     "output_type": "execute_result"
    }
   ],
   "source": [
    "def MAE(pere,fils):\n",
    "    n = 12\n",
    "    \n",
    "    summ = 0\n",
    "    for i in range (n):\n",
    "        summ += abs(fils[i]-f(pere[i],beta1,beta0))\n",
    "    return (1/n)*summ\n",
    "\n",
    "MAE(pere,fils)"
   ]
  },
  {
   "cell_type": "code",
   "execution_count": 80,
   "id": "7507fea6",
   "metadata": {},
   "outputs": [
    {
     "data": {
      "text/plain": [
       "8.230342119167105"
      ]
     },
     "execution_count": 80,
     "metadata": {},
     "output_type": "execute_result"
    }
   ],
   "source": [
    "def RMSE(pere,fils):\n",
    "    n = 12\n",
    "    summ = 0\n",
    "    for i in range(n):\n",
    "        summ += (pere[i]-f(fils[i],beta1,beta0))**2\n",
    "    return ((1/n)*summ)**0.5\n",
    "RMSE(pere,fils)"
   ]
  },
  {
   "cell_type": "code",
   "execution_count": null,
   "id": "c5009021",
   "metadata": {},
   "outputs": [],
   "source": []
  },
  {
   "cell_type": "code",
   "execution_count": null,
   "id": "8f3b6700",
   "metadata": {},
   "outputs": [],
   "source": []
  },
  {
   "cell_type": "code",
   "execution_count": null,
   "id": "53c6c9cb",
   "metadata": {},
   "outputs": [],
   "source": []
  },
  {
   "cell_type": "code",
   "execution_count": null,
   "id": "df5b173c",
   "metadata": {},
   "outputs": [],
   "source": []
  },
  {
   "cell_type": "code",
   "execution_count": null,
   "id": "c8317409",
   "metadata": {},
   "outputs": [],
   "source": []
  },
  {
   "cell_type": "code",
   "execution_count": null,
   "id": "d7993bb3",
   "metadata": {},
   "outputs": [],
   "source": [
    "# for i in range(m):\n",
    "#         z = 0\n",
    "        \n",
    "#         for j in range(m):\n",
    "#             z += (f(fils[i])-pere[i]) * fils[j]\n",
    "            \n",
    "#         summ += z\n",
    "        \n",
    "#     res = beta - alpha * (1/m) * summ\n",
    "#     return res"
   ]
  },
  {
   "cell_type": "code",
   "execution_count": 28,
   "id": "dc038a18",
   "metadata": {},
   "outputs": [
    {
     "data": {
      "text/plain": [
       "-8.499275000000015"
      ]
     },
     "execution_count": 28,
     "metadata": {},
     "output_type": "execute_result"
    }
   ],
   "source": [
    "def beta_j(beta):\n",
    "    alpha = 0.1\n",
    "    m = 12\n",
    "    summ = 0\n",
    "    \n",
    "    for i in range(m):\n",
    "        summ += (f(fils[i],0.4770,35.78)-pere[i])*fils[i]\n",
    "        \n",
    "    res = beta - alpha * (1/m) * summ\n",
    "    return res\n",
    "weight = beta_j(0.4470)\n",
    "weight"
   ]
  },
  {
   "cell_type": "code",
   "execution_count": 40,
   "id": "7430f26c",
   "metadata": {},
   "outputs": [
    {
     "data": {
      "text/plain": [
       "605.4310604166676"
      ]
     },
     "execution_count": 40,
     "metadata": {},
     "output_type": "execute_result"
    }
   ],
   "source": [
    "def MAE(pere,fils):\n",
    "    n = 12\n",
    "    summ = 0\n",
    "    for i in range (n):\n",
    "        summ += abs(pere[i]-f(fils[i],weight,bias))\n",
    "    return (1/n)*summ\n",
    "\n",
    "MAE(pere,fils)"
   ]
  }
 ],
 "metadata": {
  "kernelspec": {
   "display_name": "Python 3 (ipykernel)",
   "language": "python",
   "name": "python3"
  },
  "language_info": {
   "codemirror_mode": {
    "name": "ipython",
    "version": 3
   },
   "file_extension": ".py",
   "mimetype": "text/x-python",
   "name": "python",
   "nbconvert_exporter": "python",
   "pygments_lexer": "ipython3",
   "version": "3.10.7"
  }
 },
 "nbformat": 4,
 "nbformat_minor": 5
}
