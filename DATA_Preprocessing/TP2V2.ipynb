{
 "cells": [
  {
   "cell_type": "markdown",
   "id": "d47853e9-aa32-4351-94d8-dca4457169e5",
   "metadata": {},
   "source": [
    "# Dataset visualisation and  cleaning"
   ]
  },
  {
   "cell_type": "markdown",
   "id": "f719dcbe-b8a3-4e4b-8ae9-9b14f5f014eb",
   "metadata": {},
   "source": [
    "## Dataset cleaning"
   ]
  },
  {
   "cell_type": "markdown",
   "id": "fc230df2-b67b-457d-a0d1-e421d0605836",
   "metadata": {},
   "source": [
    "### Outliers"
   ]
  },
  {
   "cell_type": "markdown",
   "id": "7ddeb72a-95f1-4122-a3ca-cb3c8a8dbe5a",
   "metadata": {},
   "source": [
    "<div class=\"alert alert-block alert-success\">\n",
    "Outliers are data points that significantly deviate from the norm and can arise from various causes, including errors, anomalies, or data variability. Their presence can negatively impact the performance of machine learning models, making it essential to manage outliers for obtaining accurate results. To address outliers, it is important to identify and manage them effectively by either deciding whether to remove them or transforming them to minimize their impact on analysis.\n",
    "<div/>"
   ]
  },
  {
   "cell_type": "markdown",
   "id": "82826299-6f37-4d9e-a9dd-bcb8d91eda06",
   "metadata": {},
   "source": [
    "<div class=\"alert alert-block alert-danger\">\n",
    "\n",
    "1. Find and handle outliers in the data using box plots and the Interquar-\n",
    "tile Range (IQR).\n",
    "2. Compute the Interquartile Range (IQR), upper and lower bounds for\n",
    "both the alkaline phosphate and bilirubin features, and detect outliers.\n",
    "3. Handle outliers using an automatic method (not mean or median).\n",
    "<div/>"
   ]
  },
  {
   "cell_type": "markdown",
   "id": "4a7ffdc8-b70d-4c5b-84d8-c1f72128ba1d",
   "metadata": {},
   "source": [
    "## Study of correlation and feature selection"
   ]
  },
  {
   "cell_type": "markdown",
   "id": "8524c7ec-9bc0-43d9-87e3-c6cf7b7d5aa7",
   "metadata": {},
   "source": [
    "<div class=\"alert alert-block alert-success\">\n",
    "Feature selection is a crucial process in machine learning that involves\n",
    "automatically identifying the most relevant features in a dataset that\n",
    "contribute to the decision-making process. Including irrelevant and\n",
    "highly correlated features can lead to decreased accuracy. This process\n",
    "also helps to manage high-dimensional data by reducing overfitting,\n",
    "enhancing model accuracy, and decreasing training time.\n",
    "<div/>"
   ]
  },
  {
   "cell_type": "markdown",
   "id": "1c2d8246-172c-4195-8013-cbaa89b82694",
   "metadata": {},
   "source": [
    "<div class=\"alert alert-block alert-danger\"> \n",
    "\n",
    "1. Drop the feature ”Sex”.\n",
    "2. Plot the Pearson correlation heatmap to observe the correlation of in-\n",
    "dependent variables with the output variable.\n",
    "3. Only select features that have an absolute correlation above 0.5 with\n",
    "the output variable.\n",
    "4. Drop the features that are highly correlated with malaise.\n",
    "5. Should features be correlated?\n",
    "<div/>"
   ]
  },
  {
   "cell_type": "markdown",
   "id": "2a3f62a7-9bb7-4612-aa2e-bc6297437074",
   "metadata": {},
   "source": [
    "## Data splitting"
   ]
  },
  {
   "cell_type": "markdown",
   "id": "73533366-3367-4a3e-8d6a-db3fa98fdae7",
   "metadata": {},
   "source": [
    "<div class=\"alert alert-block alert-success\">\n",
    "Data splitting is the process of dividing a dataset into two or more subsets, typically comprising a training set and a testing set. This ensures that models are trained on one subset of the data (training set) while being evaluated on another (test set), which helps effectively assess their performance and improve generalization. In Python, the scikit-learn library is a popular choice for implementing data splitting, offering various functions and classes to facilitate this essential process.\n",
    "<div/>"
   ]
  },
  {
   "cell_type": "markdown",
   "id": "a950be8c-fabf-416d-9000-4c3730a4dd8f",
   "metadata": {},
   "source": [
    "<div class=\"alert alert-block alert-danger\">\n",
    "\n",
    "1. Split the data into training and test sets using the hold-out and strat-\n",
    "ified hold-out strategies.\n",
    "2. Display the number of samples in each class for both strategies in the\n",
    "training and test sets.\n",
    "<div/>"
   ]
  }
 ],
 "metadata": {
  "kernelspec": {
   "display_name": "Python 3 (ipykernel)",
   "language": "python",
   "name": "python3"
  },
  "language_info": {
   "codemirror_mode": {
    "name": "ipython",
    "version": 3
   },
   "file_extension": ".py",
   "mimetype": "text/x-python",
   "name": "python",
   "nbconvert_exporter": "python",
   "pygments_lexer": "ipython3",
   "version": "3.12.7"
  }
 },
 "nbformat": 4,
 "nbformat_minor": 5
}
